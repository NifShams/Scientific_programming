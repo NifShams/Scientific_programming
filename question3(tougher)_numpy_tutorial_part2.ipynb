{
 "cells": [
  {
   "cell_type": "code",
   "execution_count": 20,
   "id": "93ff3d55-8b85-4604-b1f8-21a5a75b691c",
   "metadata": {},
   "outputs": [
    {
     "ename": "SyntaxError",
     "evalue": "unmatched ')' (3459998564.py, line 34)",
     "output_type": "error",
     "traceback": [
      "\u001b[0;36m  Cell \u001b[0;32mIn[20], line 34\u001b[0;36m\u001b[0m\n\u001b[0;31m    S = np.swapaxes(S , 0 , -1))\u001b[0m\n\u001b[0m                               ^\u001b[0m\n\u001b[0;31mSyntaxError\u001b[0m\u001b[0;31m:\u001b[0m unmatched ')'\n"
     ]
    }
   ],
   "source": [
    "import numpy as np\n",
    "import matplotlib.pyplot as plt\n",
    "\n",
    "z = np.linspace(0 , 4*np.pi , 1000)\n",
    "t =  np.linspace(0 , 10 , 1000)\n",
    "\n",
    "\n",
    "zv , tv = np.meshgrid(z , t)\n",
    "\n",
    "Ex = np.cos(zv - tv )\n",
    "Ey = 2 * np.cos( zv - tv + np.pi/2)\n",
    "Ez = 0 * tv\n",
    "\n",
    "\n",
    "plt.plot( t , Ex[0] , color = 'red') # Ex as a function of t , where z = 0\n",
    "plt.plot( z , Ex[:,0] , color = 'green') # Ex as a function of z , where t = 0 \n",
    "\n",
    "\n",
    "E = np.array([Ex , Ey , Ez])\n",
    "E = np.swapaxes(E , 0 , -1)\n",
    "\n",
    "B = np.cross(np.array([0,0,1]) , E )\n",
    "B = np.swapaxes(B , 0 , -1)\n",
    "\n",
    "Bx , By , Bz = B\n",
    "\n",
    "plt.plot(t , Ey[0] , color = 'blue')#  Ey as a function of t where z is 0\n",
    "plt.plot(t , Bx[0] , color = 'black')# Bx as a function of t where z is 0 \n",
    "\n",
    "\n",
    "\n",
    "B = np.swapaxes(B , 0 , -1)\n",
    "S = np.cross(E , B)\n",
    "S = np.swapaxes(S , 0 , -1)\n",
    "Sx , Sy ,Sz = S"
   ]
  }
 ],
 "metadata": {
  "kernelspec": {
   "display_name": "Python 3 (ipykernel)",
   "language": "python",
   "name": "python3"
  },
  "language_info": {
   "codemirror_mode": {
    "name": "ipython",
    "version": 3
   },
   "file_extension": ".py",
   "mimetype": "text/x-python",
   "name": "python",
   "nbconvert_exporter": "python",
   "pygments_lexer": "ipython3",
   "version": "3.12.3"
  }
 },
 "nbformat": 4,
 "nbformat_minor": 5
}
