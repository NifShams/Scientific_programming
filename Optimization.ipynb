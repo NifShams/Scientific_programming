{
 "cells": [
  {
   "cell_type": "code",
   "execution_count": 1,
   "id": "71541359-ac87-470e-ade2-70fae52477cc",
   "metadata": {},
   "outputs": [],
   "source": [
    "import numpy as np\n",
    "import matplotlib.pyplot as plt\n",
    "import scipy as sp\n",
    "\n",
    "\n",
    "#Optimization\n",
    "\n",
    "from scipy.optimize import minimize\n",
    "\n",
    "def f(x):\n",
    "    return (x - 3) ** 2\n",
    "res_0 = minimize(f , 0)\n",
    "\n",
    "\n",
    "\n",
    "g = lambda x: (x[0] - 1) ** 2 + ( x[1] -2.5 ) ** 2\n",
    "cons = ({'type': 'ineq', 'fun': lambda x:  x[0] - 2 * x[1] + 2},\n",
    "        {'type': 'ineq', 'fun': lambda x: -x[0] - 2 * x[1] + 6},\n",
    "        {'type': 'ineq', 'fun': lambda x: -x[0] + 2 * x[1] + 2})\n",
    "bnds = ((0, None), (0, None))\n",
    "res_1 = minimize( g , (2 , 0) , bounds = bnds , constraints = cons)"
   ]
  },
  {
   "cell_type": "code",
   "execution_count": 2,
   "id": "43592af0-5f6d-40e5-9749-98175c0d657b",
   "metadata": {},
   "outputs": [
    {
     "data": {
      "text/plain": [
       " message: Optimization terminated successfully\n",
       " success: True\n",
       "  status: 0\n",
       "     fun: 0.8000000011920985\n",
       "       x: [ 1.400e+00  1.700e+00]\n",
       "     nit: 3\n",
       "     jac: [ 8.000e-01 -1.600e+00]\n",
       "    nfev: 10\n",
       "    njev: 3"
      ]
     },
     "execution_count": 2,
     "metadata": {},
     "output_type": "execute_result"
    }
   ],
   "source": [
    "res_1"
   ]
  },
  {
   "cell_type": "code",
   "execution_count": 4,
   "id": "8483f999-9661-42fa-98cb-7dbdcda1ac63",
   "metadata": {},
   "outputs": [
    {
     "data": {
      "text/plain": [
       "np.float64(2.9999999840660854)"
      ]
     },
     "execution_count": 4,
     "metadata": {},
     "output_type": "execute_result"
    }
   ],
   "source": [
    "res_0.x[0]"
   ]
  },
  {
   "cell_type": "code",
   "execution_count": null,
   "id": "8c3cb355-909b-45c9-a183-3de1d53d3353",
   "metadata": {},
   "outputs": [],
   "source": []
  }
 ],
 "metadata": {
  "kernelspec": {
   "display_name": "Python 3 (ipykernel)",
   "language": "python",
   "name": "python3"
  },
  "language_info": {
   "codemirror_mode": {
    "name": "ipython",
    "version": 3
   },
   "file_extension": ".py",
   "mimetype": "text/x-python",
   "name": "python",
   "nbconvert_exporter": "python",
   "pygments_lexer": "ipython3",
   "version": "3.12.3"
  }
 },
 "nbformat": 4,
 "nbformat_minor": 5
}
