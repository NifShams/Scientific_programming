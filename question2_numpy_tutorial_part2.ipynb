{
 "cells": [
  {
   "cell_type": "code",
   "execution_count": 3,
   "id": "ba78feeb-c936-43e5-97ff-1a2fbc1b0b12",
   "metadata": {},
   "outputs": [
    {
     "name": "stdout",
     "output_type": "stream",
     "text": [
      "[ 0.78378378  0.03603604 -0.67567568  0.36036036]\n"
     ]
    }
   ],
   "source": [
    "import numpy as np\n",
    "A = ([[3 , 2 , 3 , 10] , [2, -2 , 5 , 8], [3 , 3 , 4, 9] , [3 , 4, -3 , -7]] )\n",
    "b = ([4 ,1 , 3 , 2])\n",
    "print(np.linalg.solve(A,b))"
   ]
  }
 ],
 "metadata": {
  "kernelspec": {
   "display_name": "Python 3 (ipykernel)",
   "language": "python",
   "name": "python3"
  },
  "language_info": {
   "codemirror_mode": {
    "name": "ipython",
    "version": 3
   },
   "file_extension": ".py",
   "mimetype": "text/x-python",
   "name": "python",
   "nbconvert_exporter": "python",
   "pygments_lexer": "ipython3",
   "version": "3.12.3"
  }
 },
 "nbformat": 4,
 "nbformat_minor": 5
}
