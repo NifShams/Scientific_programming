{
 "cells": [
  {
   "cell_type": "code",
   "execution_count": 6,
   "id": "8bf68b68-1660-4249-a746-44720225da12",
   "metadata": {},
   "outputs": [],
   "source": [
    "import sympy as smp\n",
    "import numpy as np\n",
    "import matplotlib.pyplot as plt\n",
    "\n",
    "\n",
    "\n",
    "t, h0, v0, g, vp, q , v_o , v_p  = smp.symbols('t h_0 v_0 g v_p q v_o v_p', real=True, positive=True)\n",
    "\n",
    "\n",
    "\n",
    "ho_t = h0 - v0*t - smp.Rational(1,2)*g*t**2 #it's good practice to use smp.Rational\n",
    "dho_dt = smp.diff(ho_t , t)\n",
    "hp_t = vp*t + smp.Rational(1,2)*q*t**2\n",
    "dhp_dt = smp.diff(hp_t , t)\n",
    "\n",
    "eq1 = ho_t - hp_t\n",
    "eq2 = dho_dt + dhp_dt\n",
    "\n",
    "\n",
    "t_collide,v_initfall = smp.solve([eq1 , eq2] , [t , v0])[0]\n",
    "\n",
    "# Their velocity when they collide\n",
    "\n",
    "v_o = dho_dt.subs([(t,t_collide),(v0,v_initfall)]).simplify()\n",
    "v_p = dhp_dt.subs(t,t_collide).simplify()\n"
   ]
  },
  {
   "cell_type": "code",
   "execution_count": null,
   "id": "b342a143-1bed-4df6-bcbd-c565c01f904e",
   "metadata": {},
   "outputs": [],
   "source": []
  },
  {
   "cell_type": "code",
   "execution_count": null,
   "id": "5b98befd-c7d1-44df-8ccd-6dde7f7541d6",
   "metadata": {},
   "outputs": [],
   "source": []
  }
 ],
 "metadata": {
  "kernelspec": {
   "display_name": "Python 3 (ipykernel)",
   "language": "python",
   "name": "python3"
  },
  "language_info": {
   "codemirror_mode": {
    "name": "ipython",
    "version": 3
   },
   "file_extension": ".py",
   "mimetype": "text/x-python",
   "name": "python",
   "nbconvert_exporter": "python",
   "pygments_lexer": "ipython3",
   "version": "3.12.3"
  }
 },
 "nbformat": 4,
 "nbformat_minor": 5
}
