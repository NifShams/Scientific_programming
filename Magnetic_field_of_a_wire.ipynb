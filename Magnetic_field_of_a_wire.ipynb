{
 "cells": [
  {
   "cell_type": "code",
   "execution_count": null,
   "id": "93c759b4-0091-413b-a3d5-e45f73d5dea7",
   "metadata": {},
   "outputs": [
    {
     "name": "stdout",
     "output_type": "stream",
     "text": [
      "Parametric position of the current element (l): Matrix([[f(t)], [g(t)], [h(t)]])\n",
      "Derivative of l with respect to t (dldt): Matrix([[Derivative(f(t), t)], [Derivative(g(t), t)], [Derivative(h(t), t)]])\n",
      "dB/dt before substitution: Matrix([[I*(-(y - g(t))*Derivative(h(t), t) + (z - h(t))*Derivative(g(t), t))/(Abs(x - f(t))**2 + Abs(y - g(t))**2 + Abs(z - h(t))**2)**(3/2)], [I*((x - f(t))*Derivative(h(t), t) - (z - h(t))*Derivative(f(t), t))/(Abs(x - f(t))**2 + Abs(y - g(t))**2 + Abs(z - h(t))**2)**(3/2)], [I*(-(x - f(t))*Derivative(g(t), t) + (y - g(t))*Derivative(f(t), t))/(Abs(x - f(t))**2 + Abs(y - g(t))**2 + Abs(z - h(t))**2)**(3/2)]])\n",
      "dB/dt after substitution: Matrix([[H*I*R*cos(t)/(H**2 + R**2*sin(t)**2 + R**2*cos(t)**2)**(3/2)], [H*I*R*sin(t)/(H**2 + R**2*sin(t)**2 + R**2*cos(t)**2)**(3/2)], [I*(R**2*sin(t)**2 + R**2*cos(t)**2)/(H**2 + R**2*sin(t)**2 + R**2*cos(t)**2)**(3/2)]])\n"
     ]
    }
   ],
   "source": [
    "import sympy as smp\n",
    "import numpy as np\n",
    "\n",
    "# Define symbols\n",
    "x, y, z, t, I, mu0 = smp.symbols('x y z t I mu_0', real=True)\n",
    "R, H = smp.symbols('R H', real=True)\n",
    "\n",
    "# Define parametric functions and vectors\n",
    "f, g, h = smp.symbols('f g h', cls=smp.Function)\n",
    "f = f(t)\n",
    "g = g(t)\n",
    "h = h(t)\n",
    "\n",
    "r = smp.Matrix([x, y, z])        # Observation point\n",
    "l = smp.Matrix([f, g, h])        # Parametric position of the current element\n",
    "dldt = smp.diff(l, t)            # Derivative of l with respect to t\n",
    "\n",
    "# Debugging: Print intermediate results\n",
    "print(\"Parametric position of the current element (l):\", l)\n",
    "print(\"Derivative of l with respect to t (dldt):\", dldt)\n",
    "\n",
    "# Calculate the magnetic field contribution (dB/dt)\n",
    "try:\n",
    "    dBdt = I * dldt.cross(r - l) / (r - l).norm()**3\n",
    "    print(\"dB/dt before substitution:\", dBdt)\n",
    "except Exception as e:\n",
    "    print(\"Error calculating dB/dt:\", e)\n",
    "    dBdt = None\n",
    "\n",
    "# Substitute the parametric equations and specific coordinates\n",
    "if dBdt is not None:\n",
    "    try:\n",
    "        dBdt = dBdt.subs([\n",
    "            (f, R * smp.cos(t)),\n",
    "            (g, R * smp.sin(t)),\n",
    "            (h, 0),\n",
    "            (x, 0),\n",
    "            (y, 0),\n",
    "            (z, H)\n",
    "        ]).doit()\n",
    "        print(\"dB/dt after substitution:\", dBdt)\n",
    "    except Exception as e:\n",
    "        print(\"Error during substitution:\", e)\n",
    "        dBdt = None\n",
    "\n",
    "# Directly attempt symbolic integration\n",
    "if dBdt is not None:\n",
    "    try:\n",
    "        magnetic_field = (mu0 / (4 * smp.pi)) * smp.integrate(dBdt, (t, 0, 2 * smp.pi))\n",
    "        print(\"Symbolic Magnetic Field (B):\")\n",
    "        print(magnetic_field)\n",
    "    except Exception as e:\n",
    "        print(\"Symbolic integration failed. Error:\", e)\n",
    "\n",
    "        # Fallback to numerical integration\n",
    "        print(\"Attempting numerical integration...\")\n",
    "        try:\n",
    "            dBdt_numeric = smp.lambdify(t, dBdt, \"numpy\")\n",
    "            t_vals = np.linspace(0, 2 * np.pi, 1000)\n",
    "            dBdt_vals = np.array([dBdt_numeric(ti) for ti in t_vals])\n",
    "            magnetic_field_numeric = (mu0 / (4 * np.pi)) * np.trapz(dBdt_vals, t_vals)\n",
    "            print(\"Numerical Magnetic Field (B):\", magnetic_field_numeric)\n",
    "        except Exception as e_num:\n",
    "            print(\"Numerical integration failed. Error:\", e_num)\n",
    "else:\n",
    "    print(\"dB/dt is None. Cannot proceed with integration.\")\n",
    "\n"
   ]
  },
  {
   "cell_type": "code",
   "execution_count": null,
   "id": "38a4502c-56ec-4a93-b553-243e911cf2a7",
   "metadata": {},
   "outputs": [],
   "source": []
  }
 ],
 "metadata": {
  "kernelspec": {
   "display_name": "Python 3 (ipykernel)",
   "language": "python",
   "name": "python3"
  },
  "language_info": {
   "codemirror_mode": {
    "name": "ipython",
    "version": 3
   },
   "file_extension": ".py",
   "mimetype": "text/x-python",
   "name": "python",
   "nbconvert_exporter": "python",
   "pygments_lexer": "ipython3",
   "version": "3.12.3"
  }
 },
 "nbformat": 4,
 "nbformat_minor": 5
}
