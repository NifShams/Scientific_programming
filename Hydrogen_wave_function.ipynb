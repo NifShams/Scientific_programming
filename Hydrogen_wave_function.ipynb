{
 "cells": [
  {
   "cell_type": "code",
   "execution_count": 1,
   "id": "e4106fbc-dfff-4aa4-990c-2d17e7f12e4f",
   "metadata": {},
   "outputs": [
    {
     "data": {
      "text/plain": [
       "<matplotlib.collections.PathCollection at 0x11670f050>"
      ]
     },
     "execution_count": 1,
     "metadata": {},
     "output_type": "execute_result"
    },
    {
     "data": {
      "image/png": "[encoded data removed]",
      "text/plain": [
       "<Figure size 640x480 with 1 Axes>"
      ]
     },
     "metadata": {},
     "output_type": "display_data"
    }
   ],
   "source": [
    "import sympy as smp\n",
    "import numpy as np\n",
    "import matplotlib.pyplot as plt\n",
    "from sympy import assoc_laguerre\n",
    "\n",
    "R , R_10 , R_nl , σ = smp.symbols('R R_10 R_nl σ')\n",
    "r , a = smp.symbols('r a' , real = True , positive = True)\n",
    "n , l = smp.symbols ('n l' , integer = True , positive = True)\n",
    "\n",
    "\n",
    "R = (\n",
    "    smp.sqrt(\n",
    "        ((2 / (n * a))**3 * smp.factorial(n - l - 1)) /\n",
    "        (2 * n * smp.factorial(n + l))\n",
    "    )\n",
    "    * smp.exp(-r / (n * a))\n",
    "    * ((2 * r / (n * a))**l)\n",
    "    * smp.assoc_laguerre(n - l - 1, 2 * l + 1, 2 * r / (n * a))\n",
    ")\n",
    "\n",
    "#Ground state of hydrogen \n",
    "R_10 = R.subs([(n , 1),(l , 0)])\n",
    "\n",
    "\n",
    "#Calculating the integral : mean radial distance of an electron in state w100\n",
    "\n",
    "def compute_int(n_val, l_val, k):\n",
    "    # Substitute n and l values into R\n",
    "    R_nl = R.subs([(n, n_val), (l, l_val)])\n",
    "    # Perform the integration\n",
    "    integral = smp.integrate(R_nl**2 * r**k, (r, 0, smp.oo))\n",
    "    # Return the computed integral\n",
    "    return integral\n",
    "\n",
    "\n",
    "# Compute the spread in distances of the electron in state w100\n",
    "σ = smp.sqrt(\n",
    "    compute_int(n_val=1, l_val=0, k=4) - (compute_int(n_val=1, l_val=0, k=3)**2)\n",
    ")\n",
    "\n",
    "def compute_mean_distance(n_val, l_val=0):\n",
    "    expr = compute_int(n_val,l_val,k=3)\n",
    "    expr_f = smp.lambdify([a], expr)\n",
    "    return expr_f(1)\n",
    "\n",
    "\n",
    "ns = np.arange(1,11)\n",
    "ds =[compute_mean_distance(ni) for ni in ns]\n",
    "\n",
    "plt.scatter(ns, ds)\n"
   ]
  },
  {
   "cell_type": "code",
   "execution_count": null,
   "id": "9232d0af-9764-4625-92ec-ed15a1508fe4",
   "metadata": {},
   "outputs": [],
   "source": []
  },
  {
   "cell_type": "code",
   "execution_count": null,
   "id": "fa54b123-8b01-4ce2-bd9b-19562fb7fae9",
   "metadata": {},
   "outputs": [],
   "source": []
  }
 ],
 "metadata": {
  "kernelspec": {
   "display_name": "Python 3 (ipykernel)",
   "language": "python",
   "name": "python3"
  },
  "language_info": {
   "codemirror_mode": {
    "name": "ipython",
    "version": 3
   },
   "file_extension": ".py",
   "mimetype": "text/x-python",
   "name": "python",
   "nbconvert_exporter": "python",
   "pygments_lexer": "ipython3",
   "version": "3.12.3"
  }
 },
 "nbformat": 4,
 "nbformat_minor": 5
}
