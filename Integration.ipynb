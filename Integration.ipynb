{
 "cells": [
  {
   "cell_type": "code",
   "execution_count": 17,
   "id": "961f4542-596b-4464-abb2-80c2ab28aafe",
   "metadata": {},
   "outputs": [],
   "source": [
    "import numpy as np\n",
    "import matplotlib.pyplot as plt\n",
    "import scipy as sp\n",
    "from scipy.integrate import quad , dblquad\n",
    "\n",
    "integrand_0 = lambda x : x**2 * np.sin(2*x) * np.exp(-x)\n",
    "integral_0 , integral_error_0 = quad(integrand_0 , 0, 1)\n",
    "\n",
    "\n",
    "integrand_1 = lambda b , a : np.sin( a + b **2)\n",
    "# inner bpounds are also functions\n",
    "lw_b = lambda a : -a \n",
    "hg_b = lambda a : a**2\n",
    "\n",
    "\n",
    "integral_1 , integral_error_1 = dblquad( integrand_1 , 0 , 1,lw_b , hg_b) # from outside to inside "
   ]
  },
  {
   "cell_type": "code",
   "execution_count": 18,
   "id": "a0b09e4a-d96d-45c6-b04d-81c4f9a34251",
   "metadata": {},
   "outputs": [
    {
     "data": {
      "text/plain": [
       "0.14558175869954834"
      ]
     },
     "execution_count": 18,
     "metadata": {},
     "output_type": "execute_result"
    }
   ],
   "source": [
    "integral_0"
   ]
  },
  {
   "cell_type": "code",
   "execution_count": 19,
   "id": "c786cd0c-4ec7-418c-8f93-e6048744e995",
   "metadata": {},
   "outputs": [
    {
     "data": {
      "text/plain": [
       "1.6162822047366225e-15"
      ]
     },
     "execution_count": 19,
     "metadata": {},
     "output_type": "execute_result"
    }
   ],
   "source": [
    "integral_error_0"
   ]
  },
  {
   "cell_type": "code",
   "execution_count": 20,
   "id": "edb1d3f9-d2b6-4cd6-aa7a-3f849c1892ab",
   "metadata": {},
   "outputs": [
    {
     "data": {
      "text/plain": [
       "0.315802507240474"
      ]
     },
     "execution_count": 20,
     "metadata": {},
     "output_type": "execute_result"
    }
   ],
   "source": [
    "integral_1"
   ]
  },
  {
   "cell_type": "code",
   "execution_count": 22,
   "id": "b91fef33-082a-47f2-a381-9fea7789d0ea",
   "metadata": {},
   "outputs": [
    {
     "data": {
      "text/plain": [
       "1.5634600713498928e-14"
      ]
     },
     "execution_count": 22,
     "metadata": {},
     "output_type": "execute_result"
    }
   ],
   "source": [
    "integral_error_1"
   ]
  },
  {
   "cell_type": "raw",
   "id": "da265cdf-cfc4-47dd-901c-c5875625785b",
   "metadata": {},
   "source": []
  }
 ],
 "metadata": {
  "kernelspec": {
   "display_name": "Python 3 (ipykernel)",
   "language": "python",
   "name": "python3"
  },
  "language_info": {
   "codemirror_mode": {
    "name": "ipython",
    "version": 3
   },
   "file_extension": ".py",
   "mimetype": "text/x-python",
   "name": "python",
   "nbconvert_exporter": "python",
   "pygments_lexer": "ipython3",
   "version": "3.12.3"
  }
 },
 "nbformat": 4,
 "nbformat_minor": 5
}
