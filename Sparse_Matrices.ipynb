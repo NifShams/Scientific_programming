{
 "cells": [
  {
   "cell_type": "code",
   "execution_count": 17,
   "id": "fdd8d923-947b-403a-bfc7-d254b1ceb6cc",
   "metadata": {},
   "outputs": [],
   "source": [
    "import numpy as np\n",
    "import matplotlib.pyplot as plt\n",
    "from scipy.linalg import kron  # Kronecker product\n",
    "from scipy import sparse  # For sparse matrix operations\n",
    "\n",
    "\n",
    "N_0 = 5 \n",
    "N_1 = 100  \n",
    "\n",
    "\n",
    "d = -2 * np.ones(N_0) \n",
    "e = np.ones(N_0 - 1)  \n",
    "D_0 = np.diag(d) + np.diag(e, k=1) + np.diag(e, k=-1)\n",
    "D_0_kronsum = kron(D_0, np.identity(N_0)) + kron(np.identity(N_0), D_0)\n",
    "\n",
    "\n",
    "\n",
    "\n",
    "diag = np.ones(N_1)\n",
    "diags = np.array([diag, -2 * diag, diag])\n",
    "D_1 = sparse.spdiags(diags, np.array([-1, 0, 1]), N_1, N_1)\n",
    "D_1_kronsum = sparse.kronsum(D_1 , D_1)\n",
    "\n"
   ]
  },
  {
   "cell_type": "code",
   "execution_count": 18,
   "id": "0c1bb38e-c655-41aa-8227-bf4e2da2f18a",
   "metadata": {},
   "outputs": [
    {
     "data": {
      "text/plain": [
       "<Compressed Sparse Row sparse matrix of dtype 'float64'\n",
       "\twith 49600 stored elements and shape (10000, 10000)>"
      ]
     },
     "execution_count": 18,
     "metadata": {},
     "output_type": "execute_result"
    }
   ],
   "source": [
    "D_1_kronsum "
   ]
  },
  {
   "cell_type": "code",
   "execution_count": null,
   "id": "e08b7c36-ca84-4e58-8ecf-25c2697d7d0b",
   "metadata": {},
   "outputs": [],
   "source": []
  }
 ],
 "metadata": {
  "kernelspec": {
   "display_name": "Python 3 (ipykernel)",
   "language": "python",
   "name": "python3"
  },
  "language_info": {
   "codemirror_mode": {
    "name": "ipython",
    "version": 3
   },
   "file_extension": ".py",
   "mimetype": "text/x-python",
   "name": "python",
   "nbconvert_exporter": "python",
   "pygments_lexer": "ipython3",
   "version": "3.12.3"
  }
 },
 "nbformat": 4,
 "nbformat_minor": 5
}
