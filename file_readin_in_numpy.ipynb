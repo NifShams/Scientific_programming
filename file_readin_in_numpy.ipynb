{
 "cells": [
  {
   "cell_type": "code",
   "execution_count": 48,
   "id": "c26291b2-846c-40f0-b168-7dc8233d8c8d",
   "metadata": {},
   "outputs": [
    {
     "name": "stdout",
     "output_type": "stream",
     "text": [
      "[41. 42. 46. 42. 43. 36. 49. 39. 34. 39. 48. 41. 37. 33. 37. 40. 26. 47.\n",
      " 41. 31. 44. 42. 44. 43. 42. 41. 38. 41. 46. 31. 38. 28. 32. 49. 46. 30.\n",
      " 43. 39. 32. 42. 33. 34. 36. 32. 37. 40. 44. 43. 39. 41. 33. 39. 27. 30.\n",
      " 47. 43. 32. 33. 40. 37. 44. 40. 40. 38. 39. 37. 42. 39. 47. 41. 43. 42.\n",
      " 32. 33. 44. 35. 32. 38. 47. 41. 41. 42. 32. 46. 27. 38. 35. 34. 33. 37.\n",
      " 37. 41. 32. 34. 29. 31. 40. 38. 36. 38. 38. 44. 44. 38. 39. 42. 44. 45.\n",
      " 29. 43. 38. 43. 33. 35. 41. 42. 43. 44. 37. 37. 39. 38. 45. 39. 50. 40.\n",
      " 40. 41.]\n"
     ]
    }
   ],
   "source": [
    "import numpy as np\n",
    "\n",
    "data = np.loadtxt('./cities.csv' , dtype= 'object' , usecols = np.arange(10) , delimiter = ',' , unpack = True , skiprows = 1)\n",
    "\n",
    "\n",
    "LatD, LatM, LatS, NS, LonD, LonM, LonS, EW, City, State = data \n",
    "\n",
    "LatD = LatD.astype(np.float64)\n",
    "LatM = LatM.astype(np.float64)\n",
    "LatS = LatS.astype(np.float64)\n",
    "LonD = LonD.astype(np.float64)\n",
    "LonM = LonM.astype(np.float64)\n",
    "LonS = LonS.astype(np.float64)\n",
    "\n",
    "print(LatD)\n"
   ]
  },
  {
   "cell_type": "code",
   "execution_count": null,
   "id": "3cd1aeb3-4063-4fc4-a07e-0637fb039b46",
   "metadata": {},
   "outputs": [],
   "source": []
  }
 ],
 "metadata": {
  "kernelspec": {
   "display_name": "Python 3 (ipykernel)",
   "language": "python",
   "name": "python3"
  },
  "language_info": {
   "codemirror_mode": {
    "name": "ipython",
    "version": 3
   },
   "file_extension": ".py",
   "mimetype": "text/x-python",
   "name": "python",
   "nbconvert_exporter": "python",
   "pygments_lexer": "ipython3",
   "version": "3.12.3"
  }
 },
 "nbformat": 4,
 "nbformat_minor": 5
}
