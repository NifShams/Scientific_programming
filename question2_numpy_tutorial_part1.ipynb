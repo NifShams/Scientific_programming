{
 "cells": [
  {
   "cell_type": "code",
   "execution_count": 13,
   "id": "96aee1f6-f0ec-4863-84c3-73e24a04bff2",
   "metadata": {
    "scrolled": true
   },
   "outputs": [
    {
     "name": "stdout",
     "output_type": "stream",
     "text": [
      "32147142\n"
     ]
    }
   ],
   "source": [
    "import numpy as np\n",
    "print(np.sum(np.arange(10000+1)[((np.arange(10000+1)) % 4 != 0) & ((np.arange(10000+1)% 7) != 0)]))"
   ]
  },
  {
   "cell_type": "code",
   "execution_count": null,
   "id": "a6fb6220-ef06-4369-ab35-f4a853b49909",
   "metadata": {},
   "outputs": [],
   "source": []
  },
  {
   "cell_type": "code",
   "execution_count": null,
   "id": "2e43406d-cdb6-4bb6-bced-bcc4afce7cca",
   "metadata": {},
   "outputs": [],
   "source": []
  }
 ],
 "metadata": {
  "kernelspec": {
   "display_name": "Python 3 (ipykernel)",
   "language": "python",
   "name": "python3"
  },
  "language_info": {
   "codemirror_mode": {
    "name": "ipython",
    "version": 3
   },
   "file_extension": ".py",
   "mimetype": "text/x-python",
   "name": "python",
   "nbconvert_exporter": "python",
   "pygments_lexer": "ipython3",
   "version": "3.12.3"
  }
 },
 "nbformat": 4,
 "nbformat_minor": 5
}
